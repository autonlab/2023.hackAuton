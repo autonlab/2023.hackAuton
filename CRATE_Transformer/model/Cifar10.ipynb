{
 "cells": [
  {
   "cell_type": "code",
   "execution_count": 1,
   "metadata": {},
   "outputs": [
    {
     "name": "stdout",
     "output_type": "stream",
     "text": [
      "Requirement already satisfied: einops in /jet/home/guntakan/CRATE/hackauton/lib/python3.6/site-packages (0.4.1)\n",
      "Collecting gdown\n",
      "  Downloading gdown-4.7.1-py3-none-any.whl (15 kB)\n",
      "Requirement already satisfied: tqdm in /jet/home/guntakan/CRATE/hackauton/lib/python3.6/site-packages (from gdown) (4.64.1)\n",
      "Requirement already satisfied: six in /jet/home/guntakan/CRATE/hackauton/lib/python3.6/site-packages (from gdown) (1.16.0)\n",
      "Requirement already satisfied: requests[socks] in /jet/home/guntakan/CRATE/hackauton/lib/python3.6/site-packages (from gdown) (2.27.1)\n",
      "Collecting beautifulsoup4\n",
      "  Downloading beautifulsoup4-4.12.2-py3-none-any.whl (142 kB)\n",
      "     |████████████████████████████████| 142 kB 10.7 MB/s            \n",
      "\u001b[?25hRequirement already satisfied: filelock in /jet/home/guntakan/CRATE/hackauton/lib/python3.6/site-packages (from gdown) (3.4.1)\n",
      "Collecting soupsieve>1.2\n",
      "  Downloading soupsieve-2.3.2.post1-py3-none-any.whl (37 kB)\n",
      "Requirement already satisfied: idna<4,>=2.5 in /jet/home/guntakan/CRATE/hackauton/lib/python3.6/site-packages (from requests[socks]->gdown) (3.4)\n",
      "Requirement already satisfied: urllib3<1.27,>=1.21.1 in /jet/home/guntakan/CRATE/hackauton/lib/python3.6/site-packages (from requests[socks]->gdown) (1.26.16)\n",
      "Requirement already satisfied: charset-normalizer~=2.0.0 in /jet/home/guntakan/CRATE/hackauton/lib/python3.6/site-packages (from requests[socks]->gdown) (2.0.12)\n",
      "Requirement already satisfied: certifi>=2017.4.17 in /jet/home/guntakan/CRATE/hackauton/lib/python3.6/site-packages (from requests[socks]->gdown) (2023.7.22)\n",
      "Collecting PySocks!=1.5.7,>=1.5.6\n",
      "  Downloading PySocks-1.7.1-py3-none-any.whl (16 kB)\n",
      "Requirement already satisfied: importlib-resources in /jet/home/guntakan/CRATE/hackauton/lib/python3.6/site-packages (from tqdm->gdown) (5.4.0)\n",
      "Requirement already satisfied: zipp>=3.1.0 in /jet/home/guntakan/CRATE/hackauton/lib/python3.6/site-packages (from importlib-resources->tqdm->gdown) (3.6.0)\n",
      "Installing collected packages: soupsieve, PySocks, beautifulsoup4, gdown\n",
      "Successfully installed PySocks-1.7.1 beautifulsoup4-4.12.2 gdown-4.7.1 soupsieve-2.3.2.post1\n"
     ]
    }
   ],
   "source": [
    "# dependencies\n",
    "! pip install einops\n",
    "! pip install gdown"
   ]
  },
  {
   "cell_type": "code",
   "execution_count": 15,
   "metadata": {},
   "outputs": [],
   "source": [
    "import sys\n",
    "# modify the path if it's not your directory\n",
    "sys.path.append('/jet/home/guntakan/crate-emergence-notebooks')\n",
    "import torch\n",
    "import crate\n",
    "import os\n",
    "import sys\n",
    "import argparse\n",
    "#import cv2\n",
    "import random\n",
    "import colorsys\n",
    "import requests\n",
    "from io import BytesIO\n",
    "from tqdm import tqdm\n",
    "import skimage.io\n",
    "from skimage.measure import find_contours\n",
    "import matplotlib.pyplot as plt\n",
    "from matplotlib.patches import Polygon\n",
    "import torch\n",
    "import torch.nn as nn\n",
    "import torchvision\n",
    "from torchvision import transforms as pth_transforms\n",
    "import numpy as np\n",
    "from PIL import Image"
   ]
  },
  {
   "cell_type": "code",
   "execution_count": 16,
   "metadata": {},
   "outputs": [],
   "source": [
    "device = 'cuda'"
   ]
  },
  {
   "cell_type": "code",
   "execution_count": 17,
   "metadata": {},
   "outputs": [
    {
     "ename": "ImportError",
     "evalue": "cannot import name 'CRATEFeat'",
     "output_type": "error",
     "traceback": [
      "\u001b[0;31m---------------------------------------------------------------------------\u001b[0m",
      "\u001b[0;31mImportError\u001b[0m                               Traceback (most recent call last)",
      "\u001b[0;32m<ipython-input-17-1442202d6d34>\u001b[0m in \u001b[0;36m<module>\u001b[0;34m\u001b[0m\n\u001b[0;32m----> 1\u001b[0;31m \u001b[0;32mfrom\u001b[0m \u001b[0mcrate\u001b[0m \u001b[0;32mimport\u001b[0m \u001b[0mCRATEFeat\u001b[0m\u001b[0;34m\u001b[0m\u001b[0;34m\u001b[0m\u001b[0m\n\u001b[0m\u001b[1;32m      2\u001b[0m \u001b[0mmodel\u001b[0m \u001b[0;34m=\u001b[0m \u001b[0mCRATEFeat\u001b[0m\u001b[0;34m(\u001b[0m\u001b[0mfeat_dim\u001b[0m \u001b[0;34m=\u001b[0m \u001b[0;36m768\u001b[0m\u001b[0;34m,\u001b[0m \u001b[0mcrate_arch\u001b[0m \u001b[0;34m=\u001b[0m \u001b[0;34m'demo'\u001b[0m\u001b[0;34m,\u001b[0m\u001b[0mpretrained_path\u001b[0m \u001b[0;34m=\u001b[0m \u001b[0;34m'/jet/home/guntakan/CRATE/checkpoint/CRATE_tiny-4-ckpt.t7'\u001b[0m\u001b[0;34m,\u001b[0m \u001b[0mdevice\u001b[0m \u001b[0;34m=\u001b[0m \u001b[0mdevice\u001b[0m\u001b[0;34m)\u001b[0m\u001b[0;34m\u001b[0m\u001b[0;34m\u001b[0m\u001b[0m\n",
      "\u001b[0;31mImportError\u001b[0m: cannot import name 'CRATEFeat'"
     ]
    }
   ],
   "source": [
    "from crate import CRATEFeat\n",
    "model = CRATEFeat(feat_dim = 768, crate_arch = 'demo',pretrained_path = '/jet/home/guntakan/CRATE/checkpoint/CRATE_tiny-4-ckpt.t7', device = device)"
   ]
  }
 ],
 "metadata": {
  "kernelspec": {
   "display_name": "hackauton",
   "language": "python",
   "name": "python3"
  },
  "language_info": {
   "codemirror_mode": {
    "name": "ipython",
    "version": 3
   },
   "file_extension": ".py",
   "mimetype": "text/x-python",
   "name": "python",
   "nbconvert_exporter": "python",
   "pygments_lexer": "ipython3",
   "version": "3.6.8"
  },
  "orig_nbformat": 4
 },
 "nbformat": 4,
 "nbformat_minor": 2
}
