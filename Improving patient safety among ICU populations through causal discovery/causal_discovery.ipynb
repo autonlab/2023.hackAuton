{
 "cells": [
  {
   "cell_type": "code",
   "execution_count": null,
   "metadata": {},
   "outputs": [],
   "source": [
    "# (Output cleared due to dataset privacy limitations)"
   ]
  },
  {
   "cell_type": "code",
   "execution_count": null,
   "metadata": {},
   "outputs": [],
   "source": [
    "## Import Packages"
   ]
  },
  {
   "cell_type": "code",
   "execution_count": null,
   "metadata": {},
   "outputs": [],
   "source": [
    "from iscan import est_node_shifts, est_struct_shifts\n",
    "import torch\n",
    "import numpy as np\n",
    "import pandas as pd\n",
    "import networkx as nx\n",
    "import matplotlib as mlp\n",
    "import matplotlib.pyplot as plt\n",
    "from dagma.linear import DagmaLinear\n",
    "from dagma.nonlinear import DagmaMLP, DagmaNonlinear\n",
    "import dagma.utils\n",
    "import math"
   ]
  },
  {
   "cell_type": "code",
   "execution_count": null,
   "metadata": {},
   "outputs": [],
   "source": [
    "## Load and process dataset"
   ]
  },
  {
   "cell_type": "code",
   "execution_count": null,
   "metadata": {},
   "outputs": [],
   "source": [
    "df = pd.read_csv(\"data/df_new_imputed.csv\", header=0, index_col=0)\n",
    "n = len(df)\n",
    "full_df = pd.read_csv(\"data/CarpeDiem_dataset.csv\", header=0)\n",
    "covid_status = pd.read_csv(\"data/covid_status.csv\", index_col=0)[\"COVID_status\"]\n",
    "black_latino = (full_df[\"Race\"] == \"Black or African American\") | (full_df[\"Ethnicity\"] == \"Hispanic or Latino\")\n",
    "df = df.drop(\"Urine_output\", axis=1)"
   ]
  },
  {
   "cell_type": "code",
   "execution_count": null,
   "metadata": {},
   "outputs": [],
   "source": [
    "## Split dataset into two groups"
   ]
  },
  {
   "cell_type": "code",
   "execution_count": null,
   "metadata": {},
   "outputs": [],
   "source": [
    "vars = list(df.columns)\n",
    "group_a = df[black_latino & covid_status].to_numpy()[:2000,]\n",
    "group_b = df[~black_latino & covid_status].to_numpy()[:2000,]"
   ]
  },
  {
   "cell_type": "code",
   "execution_count": null,
   "metadata": {},
   "outputs": [],
   "source": [
    "## Call ISCAN to discover nodes that are part of shifted causal structures"
   ]
  },
  {
   "cell_type": "code",
   "execution_count": null,
   "metadata": {},
   "outputs": [],
   "source": [
    "predict_shifted_nodes, order, ratio_dict = est_node_shifts(group_a, group_b, eta_G=0.001, eta_H=0.001, )"
   ]
  },
  {
   "cell_type": "code",
   "execution_count": null,
   "metadata": {},
   "outputs": [],
   "source": [
    "## Use FOCI to find shifted structures"
   ]
  },
  {
   "cell_type": "code",
   "execution_count": null,
   "metadata": {},
   "outputs": [],
   "source": [
    "est_ddag = est_struct_shifts(group_a, group_b, predict_shifted_nodes, order)"
   ]
  },
  {
   "cell_type": "code",
   "execution_count": null,
   "metadata": {},
   "outputs": [],
   "source": [
    "## Render output"
   ]
  },
  {
   "cell_type": "code",
   "execution_count": null,
   "metadata": {},
   "outputs": [],
   "source": [
    "empty = (est_ddag.sum(axis=0) + est_ddag.sum(axis=1)) == 0\n",
    "dag = est_ddag[~empty, :][:,~empty]\n",
    "trim = [i for i in range(len(vars)) if not empty[i]]\n",
    "trim_vars = [vars[i] for i in trim]\n",
    "trim\n",
    "mlp.rcParams['figure.dpi'] = 600\n",
    "\n",
    "\n",
    "G = nx.from_numpy_array(dag, create_using=nx.DiGraph)\n",
    "pos = nx.spring_layout(G)  # positions for all nodes\n",
    "\n",
    "plt.figure(figsize=(8,8)) \n",
    "\n",
    "nx.draw_networkx_nodes(G, pos, node_size=800, node_color=[math.log(ratio_dict[i]) if i in ratio_dict else 1 for i in trim ], cmap=plt.cm.spring)\n",
    "nx.draw_networkx_edges(G, pos, arrowstyle=\"->\", arrowsize=10, node_size=800)\n",
    "labels = {i : trim_vars[i] for i in range(len(trim_vars))}\n",
    "nx.draw_networkx_labels(G, pos, labels, font_size=6, font_color=\"black\")\n",
    "\n",
    "plt.show()"
   ]
  },
  {
   "cell_type": "code",
   "execution_count": null,
   "metadata": {},
   "outputs": [],
   "source": [
    "## Find full causal structure"
   ]
  },
  {
   "cell_type": "code",
   "execution_count": null,
   "metadata": {},
   "outputs": [],
   "source": [
    "print(len(vars))\n",
    "eq_model = DagmaMLP(dims=[len(vars), 50, 20, 1])\n",
    "eq_model.to('cuda')\n",
    "model = DagmaNonlinear(eq_model)\n",
    "W_covid = model.fit(torch.tensor(group_a, device='cuda'), T=6, w_threshold=0.2)\n",
    "dagma.utils.is_dag(W_covid)\n"
   ]
  },
  {
   "cell_type": "code",
   "execution_count": null,
   "metadata": {},
   "outputs": [],
   "source": [
    "## Render"
   ]
  },
  {
   "cell_type": "code",
   "execution_count": null,
   "metadata": {},
   "outputs": [],
   "source": [
    "group_a\n",
    "\n",
    "empty = (W_covid.sum(axis=0) + W_covid.sum(axis=1)) == 0\n",
    "dag = W_covid[~empty, :][:,~empty]\n",
    "trim_vars = [vars[i] for i in range(len(vars)) if not empty[i]]\n",
    "dag\n",
    "\n",
    "labels = {i : trim_vars[i] for i in range(len(trim_vars))}\n",
    "\n",
    "G = nx.from_numpy_array(dag, create_using=nx.DiGraph)\n",
    "pos = nx.spring_layout(G)  # positions for all nodes\n",
    "\n",
    "plt.figure(figsize=(12,12)) \n",
    "\n",
    "nx.draw_networkx_nodes(G, pos)\n",
    "nx.draw_networkx_edges(G, pos, arrowstyle=\"->\", arrowsize=10)\n",
    "labels = {i : trim_vars[i] for i in range(len(trim_vars))}\n",
    "nx.draw_networkx_labels(G, pos, labels, font_size=6, font_color=\"black\")\n",
    "\n",
    "plt.show()"
   ]
  }
 ],
 "metadata": {
  "kernelspec": {
   "display_name": "hackauton",
   "language": "python",
   "name": "python3"
  },
  "language_info": {
   "codemirror_mode": {
    "name": "ipython",
    "version": 3
   },
   "file_extension": ".py",
   "mimetype": "text/x-python",
   "name": "python",
   "nbconvert_exporter": "python",
   "pygments_lexer": "ipython3",
   "version": "3.11.5"
  },
  "orig_nbformat": 4
 },
 "nbformat": 4,
 "nbformat_minor": 2
}
